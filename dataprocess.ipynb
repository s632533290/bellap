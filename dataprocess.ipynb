{
 "cells": [
  {
   "cell_type": "code",
   "execution_count": 1,
   "outputs": [],
   "source": [
    "import pandas as pd"
   ],
   "metadata": {
    "collapsed": false,
    "pycharm": {
     "name": "#%%\n"
    }
   }
  },
  {
   "cell_type": "code",
   "execution_count": 76,
   "outputs": [],
   "source": [
    "import pandas as pd\n",
    "\n",
    "main = pd.read_excel('main.xlsx')\n",
    "main = main.astype('string')\n",
    "\n",
    "check = pd.read_excel('check.xlsx')\n",
    "check = check.astype('string')\n",
    "\n",
    "main_nore = main.drop_duplicates(subset=['number','supply'],keep='first')\n",
    "main_total = pd.merge(main_nore,main_nore,on='number')\n",
    "main_use = main_total.drop(main_total[main_total['supply_x']==main_total['supply_y']].index)"
   ],
   "metadata": {
    "collapsed": false,
    "pycharm": {
     "name": "#%%\n"
    }
   }
  },
  {
   "cell_type": "code",
   "execution_count": 77,
   "outputs": [],
   "source": [
    "main_use['supplym'] = main_use[['supply_x','supply_y']].apply(lambda x:x['supply_x']+x['supply_y'],axis=1)\n",
    "check['supplym2']=check[['supply1','supply2']].apply(lambda x:x['supply1']+x['supply2'],axis=1)"
   ],
   "metadata": {
    "collapsed": false,
    "pycharm": {
     "name": "#%%\n"
    }
   }
  },
  {
   "cell_type": "code",
   "execution_count": 148,
   "outputs": [],
   "source": [
    "main_use['checkindex'] = ''\n",
    "for i in range(0,len(check)):\n",
    "    a = check.loc[i,'supplym2']\n",
    "    main_use.loc[main_use['supplym']==a,'checkindex'] = i\n",
    "    main_use.loc[main_use['supplym']==a,'checkname1'] = check.loc[i,'supply1']\n",
    "    main_use.loc[main_use['supplym']==a,'checkname2'] = check.loc[i,'supply2']"
   ],
   "metadata": {
    "collapsed": false,
    "pycharm": {
     "name": "#%%\n"
    }
   }
  },
  {
   "cell_type": "code",
   "execution_count": 151,
   "outputs": [],
   "source": [
    "main_use[main_use['checkindex']!=''][['number','supply_x','supply_y','checkindex','checkname1','checkname2']].to_csv('result.csv')"
   ],
   "metadata": {
    "collapsed": false,
    "pycharm": {
     "name": "#%%\n"
    }
   }
  },
  {
   "cell_type": "code",
   "execution_count": 2,
   "outputs": [],
   "source": [
    "import pandas as pd\n",
    "\n",
    "def output(mainfile,checkfile,outfile):\n",
    "    main = pd.read_excel(mainfile)\n",
    "    main = main.astype('string')\n",
    "\n",
    "    check = pd.read_excel(checkfile)\n",
    "    check = check.astype('string')\n",
    "\n",
    "    main_nore = main.drop_duplicates(subset=['number','supply'],keep='first')\n",
    "    main_total = pd.merge(main_nore,main_nore,on='number')\n",
    "    main_use = main_total.drop(main_total[main_total['supply_x']==main_total['supply_y']].index)\n",
    "\n",
    "    main_use['supplym'] = main_use[['supply_x','supply_y']].apply(lambda x:x['supply_x']+x['supply_y'],axis=1)\n",
    "    check['supplym2']=check[['supply1','supply2']].apply(lambda x:x['supply1']+x['supply2'],axis=1)\n",
    "\n",
    "    main_use['checkindex'] = ''\n",
    "    for i in range(0,len(check)):\n",
    "        a = check.loc[i,'supplym2']\n",
    "        main_use.loc[main_use['supplym']==a,'checkindex'] = i\n",
    "        main_use.loc[main_use['supplym']==a,'checkname1'] = check.loc[i,'supply1']\n",
    "        main_use.loc[main_use['supplym']==a,'checkname2'] = check.loc[i,'supply2']\n",
    "\n",
    "    main_use[main_use['checkindex']!=''][['number','supply_x','supply_y','checkindex','checkname1','checkname2']].to_csv(outfile+'/result.csv')"
   ],
   "metadata": {
    "collapsed": false,
    "pycharm": {
     "name": "#%%\n"
    }
   }
  },
  {
   "cell_type": "code",
   "execution_count": null,
   "outputs": [],
   "source": [],
   "metadata": {
    "collapsed": false,
    "pycharm": {
     "name": "#%%\n"
    }
   }
  }
 ],
 "metadata": {
  "kernelspec": {
   "display_name": "Python 3",
   "language": "python",
   "name": "python3"
  },
  "language_info": {
   "codemirror_mode": {
    "name": "ipython",
    "version": 2
   },
   "file_extension": ".py",
   "mimetype": "text/x-python",
   "name": "python",
   "nbconvert_exporter": "python",
   "pygments_lexer": "ipython2",
   "version": "2.7.6"
  }
 },
 "nbformat": 4,
 "nbformat_minor": 0
}